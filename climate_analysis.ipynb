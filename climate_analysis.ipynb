{
 "cells": [
  {
   "cell_type": "code",
   "execution_count": null,
   "metadata": {},
   "outputs": [],
   "source": [
    "#import plotting dependencies\n",
    "import matplotlib\n",
    "matplotlib.use('nbagg')\n",
    "from matplotlib import style\n",
    "style.use('seaborn')\n",
    "import matplotlib.pyplot as plt\n",
    "%matplotlib inline\n",
    "import matplotlib.dates as mdates\n",
    "\n",
    "\n",
    "#import data analysis dependencies\n",
    "import pandas as pd\n",
    "import numpy as np\n",
    "\n",
    "#import SQL Alchemy dependencies\n",
    "import sqlalchemy\n",
    "from sqlalchemy.ext.automap import automap_base\n",
    "from sqlalchemy.orm import Session\n",
    "from sqlalchemy import create_engine, inspect, func, desc"
   ]
  },
  {
   "cell_type": "code",
   "execution_count": null,
   "metadata": {},
   "outputs": [],
   "source": [
    "#create engine\n",
    "engine = create_engine(\"sqlite:///hawaii.sqlite\")"
   ]
  },
  {
   "cell_type": "code",
   "execution_count": null,
   "metadata": {},
   "outputs": [],
   "source": [
    "#prepare and reflect the database\n",
    "Base = automap_base()\n",
    "Base.prepare(engine, reflect=True)"
   ]
  },
  {
   "cell_type": "code",
   "execution_count": null,
   "metadata": {},
   "outputs": [],
   "source": [
    "conn = engine.connect()\n",
    "inspector = inspect(engine)"
   ]
  },
  {
   "cell_type": "code",
   "execution_count": null,
   "metadata": {},
   "outputs": [],
   "source": [
    "#have a look at the keys\n",
    "Base.classes.keys()"
   ]
  },
  {
   "cell_type": "code",
   "execution_count": null,
   "metadata": {},
   "outputs": [],
   "source": [
    "#save each table as their own reference classes\n",
    "Measurement = Base.classes.measurement\n",
    "Station = Base.classes.station"
   ]
  },
  {
   "cell_type": "code",
   "execution_count": null,
   "metadata": {},
   "outputs": [],
   "source": [
    "session = Session(engine)"
   ]
  },
  {
   "cell_type": "code",
   "execution_count": null,
   "metadata": {},
   "outputs": [],
   "source": [
    "## Start Precipitation Analysis "
   ]
  },
  {
   "cell_type": "code",
   "execution_count": null,
   "metadata": {},
   "outputs": [],
   "source": [
    "#query the database for a years worth of precipitation data. Focus on most recent.\n",
    "precipitation_analysis_1 = session.query(Measurement.date, Measurement.prcp).filter(Measurement.date >= \"2016-08-23\").\\\n",
    "    filter(Measurement.date <= \"2017-08-23\").all()"
   ]
  },
  {
   "cell_type": "code",
   "execution_count": null,
   "metadata": {},
   "outputs": [],
   "source": [
    "#prec_df = pd.read_sql_query(precipitation_analysis_1, engine, index_col=\"date\")"
   ]
  },
  {
   "cell_type": "code",
   "execution_count": null,
   "metadata": {},
   "outputs": [],
   "source": [
    "#set index equal to date\n",
    "pre_df = pd.DataFrame(precipitation_analysis_1)\n"
   ]
  },
  {
   "cell_type": "code",
   "execution_count": null,
   "metadata": {
    "scrolled": true
   },
   "outputs": [],
   "source": [
    "pre_df['date'] = pd.to_datetime(pre_df['date'])"
   ]
  },
  {
   "cell_type": "code",
   "execution_count": null,
   "metadata": {},
   "outputs": [],
   "source": [
    "prec_df = pre_df.set_index('date')\n",
    "prec_df.head()"
   ]
  },
  {
   "cell_type": "code",
   "execution_count": null,
   "metadata": {},
   "outputs": [],
   "source": [
    "#plot the data\n",
    "prec_plot = prec_df.plot(figsize = (16, 9), sort_columns=True, rot=45, use_index=True, legend=True, grid=True, color='b')\n",
    "plt.ylabel('Precipitation', weight='bold')\n",
    "plt.xlabel('Date', weight='bold')\n",
    "plt.title(\"Precipitation in Hawaii from 8-23-2016 to 8-23-2017\")\n",
    "plt.show()"
   ]
  },
  {
   "cell_type": "code",
   "execution_count": null,
   "metadata": {},
   "outputs": [],
   "source": [
    "#show short statistical analysis for data\n",
    "prec_df.describe()"
   ]
  },
  {
   "cell_type": "code",
   "execution_count": null,
   "metadata": {},
   "outputs": [],
   "source": [
    "## Start Station Analysis\n",
    "station_num = session.query(Station.id).count()\n",
    "station_num"
   ]
  },
  {
   "cell_type": "code",
   "execution_count": null,
   "metadata": {},
   "outputs": [],
   "source": [
    "#Design a query to find the most active stations.\n",
    "#List the stations and observation counts in descending order\n",
    "#Which station has the highest number of observations?\n",
    "most_active_station = session.query(Measurement.station, Station.name, func.count(Measurement.tobs)).\\\n",
    "filter(Measurement.station == Station.station).group_by(Measurement.station).order_by(func.count(Measurement.tobs).desc()).all()"
   ]
  },
  {
   "cell_type": "code",
   "execution_count": null,
   "metadata": {},
   "outputs": [],
   "source": [
    "#Waihee 837.5 has the highest number of observations\n",
    "most_active_station"
   ]
  },
  {
   "cell_type": "code",
   "execution_count": null,
   "metadata": {},
   "outputs": [],
   "source": [
    "waihee_tobs = session.query(Measurement.tobs).\\\n",
    "filter(Measurement.station == \"USC00519281\", Measurement.station == Station.station, Measurement.date >=\"2016-08-23\", Measurement.date <=\"2017-08-23\").\\\n",
    "all()"
   ]
  },
  {
   "cell_type": "code",
   "execution_count": null,
   "metadata": {},
   "outputs": [],
   "source": [
    "len(waihee_tobs)"
   ]
  },
  {
   "cell_type": "code",
   "execution_count": null,
   "metadata": {},
   "outputs": [],
   "source": [
    "print(waihee_tobs[0][0])"
   ]
  },
  {
   "cell_type": "code",
   "execution_count": null,
   "metadata": {},
   "outputs": [],
   "source": [
    "temperatures = [temp[0] for temp in waihee_tobs]"
   ]
  },
  {
   "cell_type": "code",
   "execution_count": null,
   "metadata": {},
   "outputs": [],
   "source": [
    "plt.hist(temperatures, bins=12, color='b')\n",
    "plt.title(\"Temperature Observation for Waihee Station (2016-08-23 to 2017)\")\n",
    "plt.ylabel('Frequency', weight='bold')\n",
    "plt.xlabel('Temperature', weight='bold')\n",
    "labels = ['tobs']\n",
    "plt.legend(labels)"
   ]
  },
  {
   "cell_type": "markdown",
   "metadata": {},
   "source": [
    "Write a function called calc_temps that will accept a start date and end date in the format %Y-%m-%d and return the minimum, average, and maximum temperatures for that range of dates.\n",
    "\n",
    "Use the calc_temps function to calculate the min, avg, and max temperatures for your trip using the matching dates from the previous year (i.e. use \"2017-01-01\" if your trip start date was \"2018-01-01\")\n",
    "\n",
    "Plot the min, avg, and max temperature from your previous query as a bar chart.\n",
    "\n",
    "Use the average temperature as the bar height.\n",
    "\n",
    "Use the peak-to-peak (tmax-tmin) value as the y error bar (yerr)."
   ]
  },
  {
   "cell_type": "code",
   "execution_count": null,
   "metadata": {},
   "outputs": [],
   "source": [
    "def calc_temps(start, end):\n",
    "    query = session.query(Measurement.tobs).filter(Measurement.date>=start, Measurement.date<=end).all()\n",
    "    temperatures = [temp[0] for temp in query]\n",
    "    avg_temp = np.mean(temperatures)\n",
    "    lowest_temp = min(temperatures)\n",
    "    highest_temp = max(temperatures)\n",
    "    \n",
    "\n",
    "    plt.figure(figsize=(3,5))\n",
    "    plt.bar(1, avg_temp, yerr=(highest_temp - lowest_temp), tick_label='', color='salmon')\n",
    "    plt.ylabel(\"Temperature\", weight=\"bold\")\n",
    "    plt.title(\"Average Trip Temperature\", weight=\"bold\")\n",
    "    plt.show()"
   ]
  },
  {
   "cell_type": "code",
   "execution_count": null,
   "metadata": {},
   "outputs": [],
   "source": [
    "columns = inspector.get_columns('Measurement')\n",
    "for column in columns:\n",
    "    print(column['name'])"
   ]
  },
  {
   "cell_type": "code",
   "execution_count": null,
   "metadata": {},
   "outputs": [],
   "source": [
    "calc_temps(start=\"2017-08-07\", end=\"2017-08-23\")"
   ]
  },
  {
   "cell_type": "code",
   "execution_count": null,
   "metadata": {},
   "outputs": [],
   "source": [
    "calc_temps(start=\"2013-08-12\", end=\"2013-09-12\")"
   ]
  },
  {
   "cell_type": "code",
   "execution_count": null,
   "metadata": {},
   "outputs": [],
   "source": []
  }
 ],
 "metadata": {
  "kernelspec": {
   "display_name": "Python 3",
   "language": "python",
   "name": "python3"
  },
  "language_info": {
   "codemirror_mode": {
    "name": "ipython",
    "version": 3
   },
   "file_extension": ".py",
   "mimetype": "text/x-python",
   "name": "python",
   "nbconvert_exporter": "python",
   "pygments_lexer": "ipython3",
   "version": "3.7.1"
  }
 },
 "nbformat": 4,
 "nbformat_minor": 2
}
